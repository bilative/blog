{
 "metadata": {
  "language_info": {
   "codemirror_mode": {
    "name": "ipython",
    "version": 3
   },
   "file_extension": ".py",
   "mimetype": "text/x-python",
   "name": "python",
   "nbconvert_exporter": "python",
   "pygments_lexer": "ipython3",
   "version": "3.8.5-final"
  },
  "orig_nbformat": 2,
  "kernelspec": {
   "name": "Python 3.8.5 32-bit",
   "display_name": "Python 3.8.5 32-bit",
   "metadata": {
    "interpreter": {
     "hash": "2e4bb877c4c7fab1430763a2aa43f8c1d126d5b75aee629a6c6787014ef4f8c3"
    }
   }
  }
 },
 "nbformat": 4,
 "nbformat_minor": 2,
 "cells": [
  {
   "cell_type": "code",
   "execution_count": 1,
   "metadata": {},
   "outputs": [],
   "source": [
    "import pandas as pd\n",
    "url = 'https://archive.ics.uci.edu/ml/machine-learning-databases/wine/wine.data'\n",
    "df = pd.read_csv(url)\n",
    "df = df.drop(df.columns[[0,3,6,8,11,12,13]], axis = 1)\n",
    "df.columns = ['alcohol', 'malic_acid', 'alcalinity_of_ash', 'magnesium', 'flavanoids', 'proanthocyanins', 'hue']"
   ]
  },
  {
   "cell_type": "code",
   "execution_count": 2,
   "metadata": {},
   "outputs": [
    {
     "output_type": "execute_result",
     "data": {
      "text/plain": [
       "     alcohol  malic_acid  alcalinity_of_ash  magnesium  flavanoids  \\\n",
       "167    13.58        2.58               24.5        105        0.84   \n",
       "168    13.40        4.60               25.0        112        0.96   \n",
       "169    12.20        3.03               19.0         96        0.49   \n",
       "170    12.77        2.39               19.5         86        0.51   \n",
       "171    14.16        2.51               20.0         91        0.70   \n",
       "172    13.71        5.65               20.5         95        0.61   \n",
       "173    13.40        3.91               23.0        102        0.75   \n",
       "174    13.27        4.28               20.0        120        0.69   \n",
       "175    13.17        2.59               20.0        120        0.68   \n",
       "176    14.13        4.10               24.5         96        0.76   \n",
       "\n",
       "     proanthocyanins        hue  alc  \n",
       "167             1.54   8.660000    1  \n",
       "168             1.11   8.500000    1  \n",
       "169             0.73   5.500000    0  \n",
       "170             0.64   9.899999    0  \n",
       "171             1.24   9.700000    1  \n",
       "172             1.06   7.700000    1  \n",
       "173             1.41   7.300000    1  \n",
       "174             1.35  10.200000    1  \n",
       "175             1.46   9.300000    1  \n",
       "176             1.35   9.200000    1  "
      ],
      "text/html": "<div>\n<style scoped>\n    .dataframe tbody tr th:only-of-type {\n        vertical-align: middle;\n    }\n\n    .dataframe tbody tr th {\n        vertical-align: top;\n    }\n\n    .dataframe thead th {\n        text-align: right;\n    }\n</style>\n<table border=\"1\" class=\"dataframe\">\n  <thead>\n    <tr style=\"text-align: right;\">\n      <th></th>\n      <th>alcohol</th>\n      <th>malic_acid</th>\n      <th>alcalinity_of_ash</th>\n      <th>magnesium</th>\n      <th>flavanoids</th>\n      <th>proanthocyanins</th>\n      <th>hue</th>\n      <th>alc</th>\n    </tr>\n  </thead>\n  <tbody>\n    <tr>\n      <th>167</th>\n      <td>13.58</td>\n      <td>2.58</td>\n      <td>24.5</td>\n      <td>105</td>\n      <td>0.84</td>\n      <td>1.54</td>\n      <td>8.660000</td>\n      <td>1</td>\n    </tr>\n    <tr>\n      <th>168</th>\n      <td>13.40</td>\n      <td>4.60</td>\n      <td>25.0</td>\n      <td>112</td>\n      <td>0.96</td>\n      <td>1.11</td>\n      <td>8.500000</td>\n      <td>1</td>\n    </tr>\n    <tr>\n      <th>169</th>\n      <td>12.20</td>\n      <td>3.03</td>\n      <td>19.0</td>\n      <td>96</td>\n      <td>0.49</td>\n      <td>0.73</td>\n      <td>5.500000</td>\n      <td>0</td>\n    </tr>\n    <tr>\n      <th>170</th>\n      <td>12.77</td>\n      <td>2.39</td>\n      <td>19.5</td>\n      <td>86</td>\n      <td>0.51</td>\n      <td>0.64</td>\n      <td>9.899999</td>\n      <td>0</td>\n    </tr>\n    <tr>\n      <th>171</th>\n      <td>14.16</td>\n      <td>2.51</td>\n      <td>20.0</td>\n      <td>91</td>\n      <td>0.70</td>\n      <td>1.24</td>\n      <td>9.700000</td>\n      <td>1</td>\n    </tr>\n    <tr>\n      <th>172</th>\n      <td>13.71</td>\n      <td>5.65</td>\n      <td>20.5</td>\n      <td>95</td>\n      <td>0.61</td>\n      <td>1.06</td>\n      <td>7.700000</td>\n      <td>1</td>\n    </tr>\n    <tr>\n      <th>173</th>\n      <td>13.40</td>\n      <td>3.91</td>\n      <td>23.0</td>\n      <td>102</td>\n      <td>0.75</td>\n      <td>1.41</td>\n      <td>7.300000</td>\n      <td>1</td>\n    </tr>\n    <tr>\n      <th>174</th>\n      <td>13.27</td>\n      <td>4.28</td>\n      <td>20.0</td>\n      <td>120</td>\n      <td>0.69</td>\n      <td>1.35</td>\n      <td>10.200000</td>\n      <td>1</td>\n    </tr>\n    <tr>\n      <th>175</th>\n      <td>13.17</td>\n      <td>2.59</td>\n      <td>20.0</td>\n      <td>120</td>\n      <td>0.68</td>\n      <td>1.46</td>\n      <td>9.300000</td>\n      <td>1</td>\n    </tr>\n    <tr>\n      <th>176</th>\n      <td>14.13</td>\n      <td>4.10</td>\n      <td>24.5</td>\n      <td>96</td>\n      <td>0.76</td>\n      <td>1.35</td>\n      <td>9.200000</td>\n      <td>1</td>\n    </tr>\n  </tbody>\n</table>\n</div>"
     },
     "metadata": {},
     "execution_count": 2
    }
   ],
   "source": [
    "alc=[]\n",
    "for i in range(len(df)):\n",
    "    if (df.loc[i,\"alcohol\"]>13):\n",
    "        alc.append(1)\n",
    "    else:\n",
    "        alc.append(0)\n",
    "df[\"alc\"]=pd.Series(alc)\n",
    "df.tail(10)"
   ]
  },
  {
   "cell_type": "code",
   "execution_count": 3,
   "metadata": {},
   "outputs": [
    {
     "output_type": "stream",
     "name": "stdout",
     "text": [
      "Dash is running on http://127.0.0.1:8050/\n",
      "\n",
      " * Serving Flask app \"__main__\" (lazy loading)\n",
      " * Environment: production\n",
      "   WARNING: This is a development server. Do not use it in a production deployment.\n",
      "   Use a production WSGI server instead.\n",
      " * Debug mode: off\n",
      " * Running on http://127.0.0.1:8050/ (Press CTRL+C to quit)\n",
      "127.0.0.1 - - [05/Nov/2020 22:49:55] \"\u001b[37mGET / HTTP/1.1\u001b[0m\" 200 -\n",
      "127.0.0.1 - - [05/Nov/2020 22:49:56] \"\u001b[37mGET /_dash-layout HTTP/1.1\u001b[0m\" 200 -\n",
      "127.0.0.1 - - [05/Nov/2020 22:49:56] \"\u001b[37mGET /_dash-dependencies HTTP/1.1\u001b[0m\" 200 -\n",
      "127.0.0.1 - - [05/Nov/2020 22:49:56] \"\u001b[37mGET /_favicon.ico?v=1.16.3 HTTP/1.1\u001b[0m\" 200 -\n",
      "127.0.0.1 - - [05/Nov/2020 22:49:56] \"\u001b[37mPOST /_dash-update-component HTTP/1.1\u001b[0m\" 200 -\n"
     ]
    }
   ],
   "source": [
    "import dash\n",
    "import dash_core_components as dcc\n",
    "import dash_html_components as html\n",
    "from dash.dependencies import Input, Output\n",
    "import plotly.graph_objs as go\n",
    "\n",
    "app = dash.Dash()\n",
    "\n",
    "#direkt tek satırda işlemleri halletmek istersniz de bu kısımda verileri df=pd.read_csv.. ile okumasını gerçkleştirebilirsiniz aslında\n",
    "\n",
    "features = df.columns\n",
    "\n",
    "app.layout = html.Div([\n",
    "\n",
    "        html.Div([\n",
    "            dcc.Dropdown(\n",
    "                id='xaxis',\n",
    "                options=[{'label': i.title(), 'value': i} for i in features],\n",
    "                value=features[0]\n",
    "            )\n",
    "        ],\n",
    "        style={'width': '48%', 'display': 'inline-block'}),\n",
    "\n",
    "        html.Div([\n",
    "            dcc.Dropdown(\n",
    "                id='yaxis',\n",
    "                options=[{'label': i.title(), 'value': i} for i in features],\n",
    "                value=features[1]\n",
    "            )\n",
    "        ],style={'width': '48%', 'float': 'right', 'display': 'inline-block'}),\n",
    "\n",
    "    dcc.Graph(id='feature-graphic')\n",
    "], style={'padding':10})\n",
    "\n",
    "@app.callback(\n",
    "    Output('feature-graphic', 'figure'),\n",
    "    [Input('xaxis', 'value'),\n",
    "     Input('yaxis', 'value')])\n",
    "def update_graph(xaxis_name, yaxis_name):\n",
    "    return {\n",
    "        'data': [go.Scatter(\n",
    "            x=df[xaxis_name],\n",
    "            y=df[yaxis_name],\n",
    "            text=df.index, #Buraya index yerin tarih değişkeni veya ayrım için belirleyici bir değişken eklenebilir\n",
    "            mode='markers',\n",
    "            marker_color=df[\"alc\"], #Aslında buraya sns'deki \"hue\" renklendirmeyi sağlayacak değişkeni girebilirsiniz\n",
    "        )],\n",
    "        'layout': go.Layout(\n",
    "            xaxis={'title': xaxis_name.title()},\n",
    "            yaxis={'title': yaxis_name.title()},\n",
    "            margin={'l': 40, 'b': 40, 't': 10, 'r': 0},\n",
    "            hovermode='closest'\n",
    "        )\n",
    "    }\n",
    "\n",
    "if __name__ == '__main__':\n",
    "    app.run_server()\n"
   ]
  },
  {
   "cell_type": "code",
   "execution_count": null,
   "metadata": {},
   "outputs": [],
   "source": []
  }
 ]
}